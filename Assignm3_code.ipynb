import os
import numpy as np
import pandas as pd
import matplotlib.pyplot as plt
import seaborn as sns
from sklearn.preprocessing import MinMaxScaler, LabelEncoder

# Set visualization style
sns.set(style='whitegrid')

# Folder path where your dataset is expected
folder_path = r"C:\Users\DELL\OneDrive\Desktop\CELEBAL\Assignment3"
dataset_filename = "zepto_v2.csv"
dataset_path = os.path.join(folder_path, dataset_filename)

# Step 1: List files in the folder to confirm presence
print(f"Files in folder '{folder_path}':")
try:
    files = os.listdir(folder_path)
    for f in files:
        print(f" - {f}")
except Exception as e:
    print(f"Error accessing folder: {e}")
    exit()

# Step 2: Check if dataset file is present
if dataset_filename not in files:
    print(f"\nError: '{dataset_filename}' not found in the folder above.")
    print("Please check filename and location.")
    exit()

# Step 3: Load dataset
try:
    df = pd.read_csv(dataset_path, encoding='ISO-8859-1')
    print("\nDataset loaded successfully!")
except Exception as e:
    print(f"Error loading dataset: {e}")
    exit()

# Step 4: Display dataset info
print("\nDataset Shape:", df.shape)
print("Columns:", df.columns.tolist())
print(df.head())

# Step 5: Handle missing values
print("\nMissing Values per column:")
print(df.isnull().sum())

df = df.dropna()
print(f"\nShape after dropping missing values: {df.shape}")

# Step 6: Descriptive statistics
print("\nDescriptive Statistics:")
print(df.describe())

# Step 7: Correlation heatmap (numeric columns)
plt.figure(figsize=(10, 6))
corr = df.corr(numeric_only=True)
sns.heatmap(corr, annot=True, cmap='coolwarm')
plt.title("Correlation Matrix")
plt.show()

# Step 8: Distribution plot for MRP
plt.figure(figsize=(10, 5))
sns.histplot(df['mrp'], bins=30, kde=True, color='orange')
plt.title("MRP Distribution")
plt.xlabel("MRP")
plt.ylabel("Count")
plt.show()

# Step 9: Scatter plot MRP vs Discounted Selling Price
plt.figure(figsize=(10, 5))
sns.scatterplot(x='mrp', y='discountedSellingPrice', data=df)
plt.title("MRP vs Discounted Selling Price")
plt.xlabel("MRP")
plt.ylabel("Selling Price")
plt.show()

# Step 10: Average discount % by Category
plt.figure(figsize=(12, 6))
grouped = df.groupby('Category')['discountPercent'].mean().sort_values(ascending=False)
grouped.plot(kind='bar', color='skyblue')
plt.title("Average Discount % per Category")
plt.ylabel("Discount %")
plt.xlabel("Category")
plt.xticks(rotation=45)
plt.tight_layout()
plt.show()

# Step 11: Feature Engineering - discount amount
df['discountAmount'] = df['mrp'] - df['discountedSellingPrice']

plt.figure(figsize=(10, 5))
sns.histplot(df['discountAmount'], bins=30, kde=True, color='green')
plt.title("Discount Amount Distribution")
plt.xlabel("Discount Amount")
plt.ylabel("Count")
plt.show()

# Step 12: Encoding categorical variable 'Category'
le = LabelEncoder()
df['Category_encoded'] = le.fit_transform(df['Category'])

# Step 13: Scaling 'mrp' and 'discountedSellingPrice'
scaler = MinMaxScaler()
df[['mrp_scaled', 'discountedSellingPrice_scaled']] = scaler.fit_transform(
    df[['mrp', 'discountedSellingPrice']]
)

# Step 14: Pairplot for scaled features
sns.pairplot(df[['mrp_scaled', 'discountedSellingPrice_scaled', 'discountPercent']])
plt.suptitle("Pairplot of Scaled Features", y=1.02)
plt.show()
